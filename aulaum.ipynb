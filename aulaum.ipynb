{
 "cells": [
  {
   "cell_type": "code",
   "execution_count": 4,
   "id": "b609804f-db99-49dc-a5a8-dc56d311dcc9",
   "metadata": {
    "panel-layout": {
     "height": 0,
     "visible": true,
     "width": 100
    }
   },
   "outputs": [],
   "source": [
    "import matplotlib as plt"
   ]
  },
  {
   "cell_type": "code",
   "execution_count": 7,
   "id": "58bd8934-c9e7-41fc-9faf-73e1de1001e5",
   "metadata": {},
   "outputs": [],
   "source": [
    "import matplotlib.pyplot as plt"
   ]
  },
  {
   "cell_type": "code",
   "execution_count": 5,
   "id": "b806ab77-a03a-4d09-be46-7228018ffe27",
   "metadata": {},
   "outputs": [
    {
     "data": {
      "text/plain": [
       "'3.9.2'"
      ]
     },
     "execution_count": 5,
     "metadata": {},
     "output_type": "execute_result"
    }
   ],
   "source": [
    "plt.__version__"
   ]
  },
  {
   "cell_type": "code",
   "execution_count": 14,
   "id": "7cce9f14-acc6-4608-ac9b-f558bbc4227b",
   "metadata": {},
   "outputs": [
    {
     "data": {
      "text/plain": [
       "<BarContainer object of 3 artists>"
      ]
     },
     "execution_count": 14,
     "metadata": {},
     "output_type": "execute_result"
    },
    {
     "data": {
      "image/png": "[encoded data removed]",
      "text/plain": [
       "<Figure size 640x480 with 1 Axes>"
      ]
     },
     "metadata": {},
     "output_type": "display_data"
    }
   ],
   "source": [
    "estudantes = [\"João\", \"Maria\", \"José\"]\n",
    "\n",
    "notas = [8.5, 9, 6.5]\n",
    "\n",
    "plt.bar(x = estudantes, height = notas, color = \"gray\")"
   ]
  },
  {
   "cell_type": "code",
   "execution_count": 16,
   "id": "a4e8efc4-4518-4fbd-bb31-87cb944f92c8",
   "metadata": {},
   "outputs": [
    {
     "data": {
      "text/plain": [
       "{'19 Trimestre': 8.5, '2° Trimestre': 9.5, '3º trimestre': 7}"
      ]
     },
     "execution_count": 16,
     "metadata": {},
     "output_type": "execute_result"
    }
   ],
   "source": [
    "#Notas do(a) estudante\n",
    "notas = {'19 Trimestre': 8.5, \n",
    "         '2° Trimestre': 9.5, \n",
    "         '3º trimestre': 7}\n",
    "notas"
   ]
  },
  {
   "cell_type": "code",
   "execution_count": 18,
   "id": "8877a932-24e5-4ec3-a349-e91ca842f7bd",
   "metadata": {},
   "outputs": [
    {
     "data": {
      "text/plain": [
       "25.0"
      ]
     },
     "execution_count": 18,
     "metadata": {},
     "output_type": "execute_result"
    }
   ],
   "source": [
    "# Calculando a soma\n",
    "soma = 0\n",
    "\n",
    "for nota in notas.values():\n",
    "    soma += nota\n",
    "\n",
    "soma"
   ]
  },
  {
   "cell_type": "code",
   "execution_count": 19,
   "id": "e5ae90fa-112c-4e51-9f32-23e3eede1cb4",
   "metadata": {},
   "outputs": [
    {
     "data": {
      "text/plain": [
       "25.0"
      ]
     },
     "execution_count": 19,
     "metadata": {},
     "output_type": "execute_result"
    }
   ],
   "source": [
    "# Usando a função embutida sum()\n",
    "somatorio = sum(notas.values())\n",
    "\n",
    "somatorio"
   ]
  },
  {
   "cell_type": "code",
   "execution_count": 20,
   "id": "d307615b-ecaa-4fa6-ba92-972c070152cf",
   "metadata": {},
   "outputs": [
    {
     "data": {
      "text/plain": [
       "3"
      ]
     },
     "execution_count": 20,
     "metadata": {},
     "output_type": "execute_result"
    }
   ],
   "source": [
    "# Usando a função embutida len()\n",
    "qtd_notas = len(notas)\n",
    "\n",
    "qtd_notas"
   ]
  },
  {
   "cell_type": "code",
   "execution_count": 21,
   "id": "307259b0-d4bb-498a-baf8-339b50d1c47c",
   "metadata": {},
   "outputs": [
    {
     "data": {
      "text/plain": [
       "8.3"
      ]
     },
     "execution_count": 21,
     "metadata": {},
     "output_type": "execute_result"
    }
   ],
   "source": [
    "media = somatorio / qtd_notas\n",
    "media = round(media,1)\n",
    "media"
   ]
  },
  {
   "cell_type": "code",
   "execution_count": 13,
   "id": "d7a9f848-f0b5-431e-a4c8-b0d644b6d777",
   "metadata": {},
   "outputs": [],
   "source": [
    "def media():\n",
    "    calculo = (500 + 300 + 2000) / 3\n",
    "    print(calculo)"
   ]
  },
  {
   "cell_type": "code",
   "execution_count": 14,
   "id": "e2de34b2-c318-4c30-b4bd-f78be5e9d110",
   "metadata": {},
   "outputs": [
    {
     "name": "stdout",
     "output_type": "stream",
     "text": [
      "933.3333333333334\n"
     ]
    }
   ],
   "source": [
    "media()"
   ]
  },
  {
   "cell_type": "code",
   "execution_count": 15,
   "id": "8d6b8a00-1a3c-4ec6-a316-e7ebd7ed1525",
   "metadata": {},
   "outputs": [
    {
     "name": "stdin",
     "output_type": "stream",
     "text": [
      "Digite a nota do(a) estudante:  10\n"
     ]
    },
    {
     "data": {
      "text/plain": [
       "10.5"
      ]
     },
     "execution_count": 15,
     "metadata": {},
     "output_type": "execute_result"
    }
   ],
   "source": [
    "# Testando a mesma função para uma função lambda\n",
    "nota = float(input(\"Digite a nota do(a) estudante: \"))\n",
    "\n",
    "qualitativo = lambda x: x + 0.5\n",
    "\n",
    "qualitativo(nota)"
   ]
  },
  {
   "cell_type": "code",
   "execution_count": 18,
   "id": "0e63dc26-b79a-457f-8e4e-9e89b44f7ba9",
   "metadata": {},
   "outputs": [
    {
     "name": "stdin",
     "output_type": "stream",
     "text": [
      "Digite a 1ª nota do(a) estudante:  4.5\n",
      "Digite a 2ª nota do(a) estudante:  7.5\n",
      "Digite a 3ª nota do(a) estudante:  10\n"
     ]
    },
    {
     "data": {
      "text/plain": [
       "7.85"
      ]
     },
     "execution_count": 18,
     "metadata": {},
     "output_type": "execute_result"
    }
   ],
   "source": [
    "# Recebendo as notas e calculando a média ponderável\n",
    "N1 = float(input(\"Digite a 1ª nota do(a) estudante: \"))\n",
    "N2 = float(input(\"Digite a 2ª nota do(a) estudante: \"))\n",
    "N3 = float(input(\"Digite a 3ª nota do(a) estudante: \"))\n",
    "\n",
    "media_ponderavel = lambda x, y, z: (x * 3 + y * 2 + z * 5)/10\n",
    "media_estudante = media_ponderavel(N1, N2, N3)\n",
    "media_estudante"
   ]
  },
  {
   "cell_type": "code",
   "execution_count": null,
   "id": "3bdc0424-b0aa-481f-8a34-0f29e9ad983d",
   "metadata": {},
   "outputs": [],
   "source": []
  }
 ],
 "metadata": {
  "kernelspec": {
   "display_name": "Python [conda env:base] *",
   "language": "python",
   "name": "conda-base-py"
  },
  "language_info": {
   "codemirror_mode": {
    "name": "ipython",
    "version": 3
   },
   "file_extension": ".py",
   "mimetype": "text/x-python",
   "name": "python",
   "nbconvert_exporter": "python",
   "pygments_lexer": "ipython3",
   "version": "3.12.7"
  },
  "panel-cell-order": [
   "b609804f-db99-49dc-a5a8-dc56d311dcc9"
  ]
 },
 "nbformat": 4,
 "nbformat_minor": 5
}
